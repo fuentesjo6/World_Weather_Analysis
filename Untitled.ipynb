{
 "cells": [
  {
   "cell_type": "code",
   "execution_count": 33,
   "id": "amino-damages",
   "metadata": {},
   "outputs": [],
   "source": [
    "import random"
   ]
  },
  {
   "cell_type": "code",
   "execution_count": 34,
   "id": "passive-cooking",
   "metadata": {},
   "outputs": [
    {
     "data": {
      "text/plain": [
       "84"
      ]
     },
     "execution_count": 34,
     "metadata": {},
     "output_type": "execute_result"
    }
   ],
   "source": [
    "random.randint(-90,90)"
   ]
  },
  {
   "cell_type": "code",
   "execution_count": 35,
   "id": "infrared-transcription",
   "metadata": {},
   "outputs": [
    {
     "data": {
      "text/plain": [
       "0.3514267465369597"
      ]
     },
     "execution_count": 35,
     "metadata": {},
     "output_type": "execute_result"
    }
   ],
   "source": [
    "random.random()"
   ]
  },
  {
   "cell_type": "code",
   "execution_count": 36,
   "id": "vulnerable-moses",
   "metadata": {},
   "outputs": [
    {
     "data": {
      "text/plain": [
       "-87.91661713344035"
      ]
     },
     "execution_count": 36,
     "metadata": {},
     "output_type": "execute_result"
    }
   ],
   "source": [
    "random_number = random.randint(-90,90)+ random.random()\n",
    "random_number"
   ]
  },
  {
   "cell_type": "code",
   "execution_count": 37,
   "id": "cheap-sheriff",
   "metadata": {},
   "outputs": [
    {
     "data": {
      "text/plain": [
       "85"
      ]
     },
     "execution_count": 37,
     "metadata": {},
     "output_type": "execute_result"
    }
   ],
   "source": [
    "random.randrange(-90,90, step=1)"
   ]
  },
  {
   "cell_type": "code",
   "execution_count": 38,
   "id": "confused-tiger",
   "metadata": {},
   "outputs": [
    {
     "data": {
      "text/plain": [
       "-27"
      ]
     },
     "execution_count": 38,
     "metadata": {},
     "output_type": "execute_result"
    }
   ],
   "source": [
    "random.randrange(-90,90, step=3)"
   ]
  },
  {
   "cell_type": "code",
   "execution_count": 39,
   "id": "suitable-aurora",
   "metadata": {},
   "outputs": [
    {
     "data": {
      "text/plain": [
       "-59.50102018409605"
      ]
     },
     "execution_count": 39,
     "metadata": {},
     "output_type": "execute_result"
    }
   ],
   "source": [
    "random.uniform(-90,90)\n"
   ]
  },
  {
   "cell_type": "code",
   "execution_count": 40,
   "id": "committed-nurse",
   "metadata": {},
   "outputs": [],
   "source": [
    "#Import the numpy module\n",
    "import numpy as np"
   ]
  },
  {
   "cell_type": "code",
   "execution_count": 41,
   "id": "civil-sperm",
   "metadata": {},
   "outputs": [
    {
     "data": {
      "text/plain": [
       "78.72328388271657"
      ]
     },
     "execution_count": 41,
     "metadata": {},
     "output_type": "execute_result"
    }
   ],
   "source": [
    "np.random.uniform(-90.000, 90.000)"
   ]
  },
  {
   "cell_type": "code",
   "execution_count": 42,
   "id": "chief-retro",
   "metadata": {},
   "outputs": [
    {
     "data": {
      "text/plain": [
       "array([ 44.13278664,  39.87274033,  12.27596199,  19.44038146,\n",
       "        78.89768589, -44.23620091,  66.10724344, -42.14019277,\n",
       "        41.17084855,  73.11093484, -69.60511457, -27.06203393,\n",
       "        88.34043311,  21.44410406, -30.1645705 ,  88.38022264,\n",
       "       -47.52292014,  44.75571606,  51.48789857,  74.84925466,\n",
       "        80.73480121,  39.96302828,  39.26653139, -28.08145324,\n",
       "        89.39870404,  70.57453749,  16.87990425,  40.63986019,\n",
       "       -29.91751371,  27.55899786,  45.24451682,  73.24482052,\n",
       "        51.8273433 , -66.2949688 , -34.23397605,  72.68714166,\n",
       "       -86.13126846, -81.65620394,  -2.54953148,  82.46236255,\n",
       "       -74.77951082,  75.28938602,  86.04951647,  20.25528999,\n",
       "        86.05846001,  44.70926067,   5.1244315 ,  68.80284017,\n",
       "       -16.14491814, -45.07763169])"
      ]
     },
     "execution_count": 42,
     "metadata": {},
     "output_type": "execute_result"
    }
   ],
   "source": [
    "np.random.uniform(-90.000, 90.000, size=50)"
   ]
  },
  {
   "cell_type": "code",
   "execution_count": 43,
   "id": "ongoing-carter",
   "metadata": {},
   "outputs": [],
   "source": [
    "#Import the timeit command\n",
    "import timeit"
   ]
  },
  {
   "cell_type": "code",
   "execution_count": 44,
   "id": "periodic-borough",
   "metadata": {},
   "outputs": [
    {
     "name": "stdout",
     "output_type": "stream",
     "text": [
      "12.6 µs ± 315 ns per loop (mean ± std. dev. of 7 runs, 100000 loops each)\n"
     ]
    }
   ],
   "source": [
    "%timeit np.random.uniform(-90.000, 90.000, size=1500)"
   ]
  },
  {
   "cell_type": "code",
   "execution_count": 47,
   "id": "positive-consultation",
   "metadata": {},
   "outputs": [
    {
     "name": "stdout",
     "output_type": "stream",
     "text": [
      "1.2 ms ± 7.45 µs per loop (mean ± std. dev. of 7 runs, 1000 loops each)\n"
     ]
    }
   ],
   "source": [
    "def latitudes(size):\n",
    "    latitudes = []\n",
    "    x = 0\n",
    "    while x < (size):\n",
    "        random_lat = random.randint(-90, 90) + random.random()\n",
    "        latitudes.append(random_lat)\n",
    "        x += 1\n",
    "    return latitudes\n",
    "# Call the function with 1500.\n",
    "%timeit latitudes(1500)"
   ]
  },
  {
   "cell_type": "code",
   "execution_count": null,
   "id": "approved-jumping",
   "metadata": {},
   "outputs": [],
   "source": []
  }
 ],
 "metadata": {
  "kernelspec": {
   "display_name": "PythonData",
   "language": "python",
   "name": "pythondata"
  },
  "language_info": {
   "codemirror_mode": {
    "name": "ipython",
    "version": 3
   },
   "file_extension": ".py",
   "mimetype": "text/x-python",
   "name": "python",
   "nbconvert_exporter": "python",
   "pygments_lexer": "ipython3",
   "version": "3.8.5"
  },
  "varInspector": {
   "cols": {
    "lenName": 16,
    "lenType": 16,
    "lenVar": 40
   },
   "kernels_config": {
    "python": {
     "delete_cmd_postfix": "",
     "delete_cmd_prefix": "del ",
     "library": "var_list.py",
     "varRefreshCmd": "print(var_dic_list())"
    },
    "r": {
     "delete_cmd_postfix": ") ",
     "delete_cmd_prefix": "rm(",
     "library": "var_list.r",
     "varRefreshCmd": "cat(var_dic_list()) "
    }
   },
   "position": {
    "height": "144.716px",
    "left": "292.091px",
    "right": "20px",
    "top": "13px",
    "width": "350px"
   },
   "types_to_exclude": [
    "module",
    "function",
    "builtin_function_or_method",
    "instance",
    "_Feature"
   ],
   "window_display": false
  }
 },
 "nbformat": 4,
 "nbformat_minor": 5
}
